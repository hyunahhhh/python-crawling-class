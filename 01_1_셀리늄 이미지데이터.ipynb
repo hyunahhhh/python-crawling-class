{
 "cells": [
  {
   "cell_type": "markdown",
   "metadata": {},
   "source": [
    "# selenium을 활용\n",
    "\n",
    "* selenium: 동적으로 화면을 업데이트\n",
    "* 크롬창을 직접 오픈해서 html 페이지를 받아옴"
   ]
  },
  {
   "cell_type": "code",
   "execution_count": null,
   "metadata": {},
   "outputs": [],
   "source": [
    "# (실습3) 이미지\n",
    "from bs4 import BeautifulSoup\n",
    "import requests\n",
    "import pandas as pd\n",
    "from selenium import webdriver\n",
    "from selenium.webdriver.chrome.options import Options\n",
    "import time\n",
    "import os\n",
    "# 크롤링할 웹 사이트 정보\n",
    "base_url = 'https://www.tripadvisor.co.kr'\n",
    "seoul_url = '/Restaurants-g294197-Seoul.html'\n",
    "\n",
    "# get html\n",
    "\n",
    "## 크롬창을 직접\n",
    "options = Options()\n",
    "options.headless = True\n",
    "browser = webdriver.Chrome(options=options)\n",
    "browser.implicitly_wait(3)\n",
    "browser.get(base_url+seoul_url)\n",
    "time.sleep(5)\n",
    "# BeautifulSoup을 활용하여 데이터 파싱\n",
    "html = browser.page_source\n",
    "soup = BeautifulSoup(html, 'html.parser')\n",
    "\n",
    "# 이미지\n",
    "photos = soup.findAll('div', {'class' : '_2Hb-Mt7l'})\n",
    "# print(photos)\n",
    "\n",
    "img_dir = f\"{os.getcwd()}/img\"\n",
    "if not os.path.isdir(img_dir):\n",
    "   os.mkdir(img_dir)\n",
    "\n",
    "for photo in photos :\n",
    "    url = photo.get('style').split('\"')[1]\n",
    "    img_file_name = url.split('/')[-1]\n",
    "    img_data = requests.get(url).content\n",
    "    with open(f'img/{img_file_name}', 'wb') as handler:\n",
    "        handler.write(img_data)"
   ]
  },
  {
   "cell_type": "code",
   "execution_count": null,
   "metadata": {},
   "outputs": [],
   "source": []
  }
 ],
 "metadata": {
  "kernelspec": {
   "display_name": "Python 3",
   "language": "python",
   "name": "python3"
  },
  "language_info": {
   "codemirror_mode": {
    "name": "ipython",
    "version": 3
   },
   "file_extension": ".py",
   "mimetype": "text/x-python",
   "name": "python",
   "nbconvert_exporter": "python",
   "pygments_lexer": "ipython3",
   "version": "3.7.6"
  },
  "toc": {
   "base_numbering": 1,
   "nav_menu": {},
   "number_sections": false,
   "sideBar": true,
   "skip_h1_title": false,
   "title_cell": "Table of Contents",
   "title_sidebar": "Contents",
   "toc_cell": false,
   "toc_position": {},
   "toc_section_display": true,
   "toc_window_display": false
  }
 },
 "nbformat": 4,
 "nbformat_minor": 4
}
