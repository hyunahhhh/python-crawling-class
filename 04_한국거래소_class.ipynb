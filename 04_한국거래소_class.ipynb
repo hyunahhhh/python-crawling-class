{
 "cells": [
  {
   "cell_type": "markdown",
   "metadata": {},
   "source": [
    "# 한국 거래소 웹크롤링\n",
    "http://marketdata.krx.co.kr"
   ]
  },
  {
   "cell_type": "code",
   "execution_count": 2,
   "metadata": {},
   "outputs": [],
   "source": [
    "import pandas as pd\n",
    "from io import BytesIO\n",
    "from bs4 import BeautifulSoup\n",
    "import requests"
   ]
  },
  {
   "cell_type": "code",
   "execution_count": 4,
   "metadata": {},
   "outputs": [],
   "source": [
    "# copy > copy link address\n",
    "url = 'http://marketdata.krx.co.kr/contents/COM/GenerateOTP.jspx'\n",
    "\n",
    "# copy > copy request headers\n",
    "headers = {\n",
    "    'Referer' : 'http://marketdata.krx.co.kr/mdi',\n",
    "    'User-Agent': 'Mozilla/5.0 (Windows NT 10.0; Win64; x64) AppleWebKit/537.36 (KHTML, like Gecko) Chrome/79.0.3945.130 Safari/537.36'\n",
    "}\n",
    "\n",
    "# copy > copy link address 에서 ? 뒤에 부분\n",
    "body_data = {\n",
    "        'name': 'fileDown',\n",
    "        'filetype': 'xls',\n",
    "        'url': 'MKD/13/1302/13020101/mkd13020101',\n",
    "        'market_gubun': 'ALL',\n",
    "        'sect_tp_cd': 'ALL',\n",
    "        'schdate': '20200130',\n",
    "        'pagePath': '/contents/MKD/13/1302/13020101/MKD13020101.jsp'\n",
    "}\n",
    "\n",
    "r = requests.get(url, body_data, headers=headers)"
   ]
  },
  {
   "cell_type": "code",
   "execution_count": null,
   "metadata": {},
   "outputs": [],
   "source": [
    "# copy > copy link address\n",
    "down_url = 'http://file.krx.co.kr/download.jspx'\n",
    "\n",
    "body_data2 = {\n",
    "            'code' : r.content\n",
    "}\n",
    "r = requests.post(down_url, body_data2, headers = headers)\n",
    "\n",
    "result = r.content\n",
    "df = pd.read_excel(BytesIO(result))\n",
    "df = df.sort_values(['등락률'], ascending=[False])\n",
    "df.to_excel('C:/Users/zhining/git/python-crawling/stock.xlsx', index=False, index_label=None)"
   ]
  },
  {
   "cell_type": "code",
   "execution_count": null,
   "metadata": {},
   "outputs": [],
   "source": []
  }
 ],
 "metadata": {
  "kernelspec": {
   "display_name": "Python 3",
   "language": "python",
   "name": "python3"
  },
  "language_info": {
   "codemirror_mode": {
    "name": "ipython",
    "version": 3
   },
   "file_extension": ".py",
   "mimetype": "text/x-python",
   "name": "python",
   "nbconvert_exporter": "python",
   "pygments_lexer": "ipython3",
   "version": "3.7.6"
  },
  "toc": {
   "base_numbering": 1,
   "nav_menu": {},
   "number_sections": false,
   "sideBar": true,
   "skip_h1_title": false,
   "title_cell": "Table of Contents",
   "title_sidebar": "Contents",
   "toc_cell": false,
   "toc_position": {},
   "toc_section_display": true,
   "toc_window_display": false
  }
 },
 "nbformat": 4,
 "nbformat_minor": 4
}
