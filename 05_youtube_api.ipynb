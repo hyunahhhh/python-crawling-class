{
 "cells": [
  {
   "cell_type": "markdown",
   "metadata": {},
   "source": [
    "# OpenAPI를 활용하여 데이터 크롤링하기\n",
    "\n",
    "-----------\n",
    "## 1. 크롤링 할 사이트 : Youtube\n",
    "\n",
    "#### 목표\n",
    " 관심있는 채널의 타이틀, 썸네일 정보를 크롤링하여 문서로 만들기\n",
    "\n",
    "## 2. 크롤링 준비\n",
    "\n",
    "#### 가입절차\n",
    "\n",
    "## 3. API 참고\n",
    "\n",
    "#### Youtube Data API 문서\n",
    "\n",
    "https://developers.google.com/youtube/v3/docs\n",
    "\n",
    "#### Youtube Data API 중 search 기능\n",
    "https://developers.google.com/youtube/v3/docs/search/list\n",
    "\n",
    "\n",
    "#### 사전작업\n",
    "pip install google-api-python-client  \n",
    "pip install oauth2client"
   ]
  },
  {
   "cell_type": "code",
   "execution_count": null,
   "metadata": {},
   "outputs": [],
   "source": [
    "### 관련 라이브러리 import\n",
    "import os\n",
    "\n",
    "from googleapiclient.discovery import build\n",
    "from googleapiclient.errors import HttpError\n",
    "import requests\n",
    "from oauth2client.tools import argparser\n",
    "from io import BytesIO\n",
    "\n",
    "# Import urlopen() for either Python 2 or 3.\n",
    "try:\n",
    "    from urllib.request import urlopen\n",
    "except ImportError:\n",
    "    from urllib2 import urlopen\n",
    "import xlsxwriter"
   ]
  },
  {
   "cell_type": "code",
   "execution_count": null,
   "metadata": {},
   "outputs": [],
   "source": [
    "# 환경변수에서 API 키 추출하기\n",
    "YOUTUBE_API_KEY = \"발급받은 키로 바꾸세요\""
   ]
  },
  {
   "cell_type": "code",
   "execution_count": 1,
   "metadata": {},
   "outputs": [
    {
     "ename": "NameError",
     "evalue": "name 'build' is not defined",
     "output_type": "error",
     "traceback": [
      "\u001b[1;31m---------------------------------------------------------------------------\u001b[0m",
      "\u001b[1;31mNameError\u001b[0m                                 Traceback (most recent call last)",
      "\u001b[1;32m<ipython-input-1-264db2ece967>\u001b[0m in \u001b[0;36m<module>\u001b[1;34m\u001b[0m\n\u001b[0;32m      5\u001b[0m \u001b[1;31m# 이 함수는 내부적으로 https://www.googleapis.com/discovery/v1/apis/youtube/v3/rest라는\u001b[0m\u001b[1;33m\u001b[0m\u001b[1;33m\u001b[0m\u001b[1;33m\u001b[0m\u001b[0m\n\u001b[0;32m      6\u001b[0m \u001b[1;31m# URL에 접근하고 API 리소스와 메서드 정보를 추출\u001b[0m\u001b[1;33m\u001b[0m\u001b[1;33m\u001b[0m\u001b[1;33m\u001b[0m\u001b[0m\n\u001b[1;32m----> 7\u001b[1;33m \u001b[0myoutube\u001b[0m \u001b[1;33m=\u001b[0m \u001b[0mbuild\u001b[0m\u001b[1;33m(\u001b[0m\u001b[1;34m'youtube'\u001b[0m\u001b[1;33m,\u001b[0m \u001b[1;34m'v3'\u001b[0m\u001b[1;33m,\u001b[0m \u001b[0mdeveloperKey\u001b[0m\u001b[1;33m=\u001b[0m\u001b[0mYOUTUBE_API_KEY\u001b[0m\u001b[1;33m)\u001b[0m\u001b[1;33m\u001b[0m\u001b[1;33m\u001b[0m\u001b[0m\n\u001b[0m",
      "\u001b[1;31mNameError\u001b[0m: name 'build' is not defined"
     ]
    }
   ],
   "source": [
    "# YouTube API 클라이언트를 생성\n",
    "# build() 함수의 첫 번째 매개변수에는 API 이름\n",
    "# 두 번째 매개변수에는 API 버전을 지정\n",
    "# 키워드 매개변수 developerKey에는 API 키를 지정\n",
    "# 이 함수는 내부적으로 https://www.googleapis.com/discovery/v1/apis/youtube/v3/rest라는\n",
    "# URL에 접근하고 API 리소스와 메서드 정보를 추출\n",
    "youtube = build('youtube', 'v3', developerKey=YOUTUBE_API_KEY)"
   ]
  },
  {
   "cell_type": "code",
   "execution_count": 2,
   "metadata": {},
   "outputs": [
    {
     "ename": "NameError",
     "evalue": "name 'youtube' is not defined",
     "output_type": "error",
     "traceback": [
      "\u001b[1;31m---------------------------------------------------------------------------\u001b[0m",
      "\u001b[1;31mNameError\u001b[0m                                 Traceback (most recent call last)",
      "\u001b[1;32m<ipython-input-2-08c6c4b6ac9e>\u001b[0m in \u001b[0;36m<module>\u001b[1;34m\u001b[0m\n\u001b[0;32m      3\u001b[0m \u001b[1;31m# list() 메서드를 실행하면 googleapiclient.http.HttpRequest가 반환\u001b[0m\u001b[1;33m\u001b[0m\u001b[1;33m\u001b[0m\u001b[1;33m\u001b[0m\u001b[0m\n\u001b[0;32m      4\u001b[0m \u001b[1;31m# execute() 메서드를 실행하면 실제 HTTP 요청이 보내지며, API 응답이 반환\u001b[0m\u001b[1;33m\u001b[0m\u001b[1;33m\u001b[0m\u001b[1;33m\u001b[0m\u001b[0m\n\u001b[1;32m----> 5\u001b[1;33m search_response = youtube.search().list(\n\u001b[0m\u001b[0;32m      6\u001b[0m     \u001b[0mpart\u001b[0m\u001b[1;33m=\u001b[0m\u001b[1;34m'snippet'\u001b[0m\u001b[1;33m,\u001b[0m\u001b[1;33m\u001b[0m\u001b[1;33m\u001b[0m\u001b[0m\n\u001b[0;32m      7\u001b[0m     \u001b[0mq\u001b[0m\u001b[1;33m=\u001b[0m\u001b[1;34m'아이리포'\u001b[0m\u001b[1;33m,\u001b[0m\u001b[1;33m\u001b[0m\u001b[1;33m\u001b[0m\u001b[0m\n",
      "\u001b[1;31mNameError\u001b[0m: name 'youtube' is not defined"
     ]
    }
   ],
   "source": [
    "# 키워드 매개변수로 매개변수를 지정하고\n",
    "# search.list 메서드를 호출\n",
    "# list() 메서드를 실행하면 googleapiclient.http.HttpRequest가 반환 \n",
    "# execute() 메서드를 실행하면 실제 HTTP 요청이 보내지며, API 응답이 반환\n",
    "search_response = youtube.search().list(\n",
    "    part='snippet',\n",
    "    q='아이리포',\n",
    "    order = \"date\",\n",
    "    maxResults = 5,\n",
    ").execute()\n",
    "\n",
    "# print(search_response)"
   ]
  },
  {
   "cell_type": "code",
   "execution_count": 3,
   "metadata": {},
   "outputs": [
    {
     "ename": "NameError",
     "evalue": "name 'search_response' is not defined",
     "output_type": "error",
     "traceback": [
      "\u001b[1;31m---------------------------------------------------------------------------\u001b[0m",
      "\u001b[1;31mNameError\u001b[0m                                 Traceback (most recent call last)",
      "\u001b[1;32m<ipython-input-3-a4f92bbe7822>\u001b[0m in \u001b[0;36m<module>\u001b[1;34m\u001b[0m\n\u001b[0;32m      2\u001b[0m \u001b[1;31m# json parser : http://json.parser.online.fr/\u001b[0m\u001b[1;33m\u001b[0m\u001b[1;33m\u001b[0m\u001b[1;33m\u001b[0m\u001b[0m\n\u001b[0;32m      3\u001b[0m \u001b[1;33m\u001b[0m\u001b[0m\n\u001b[1;32m----> 4\u001b[1;33m \u001b[1;32mfor\u001b[0m \u001b[0mitem\u001b[0m \u001b[1;32min\u001b[0m \u001b[0msearch_response\u001b[0m\u001b[1;33m[\u001b[0m\u001b[1;34m'items'\u001b[0m\u001b[1;33m]\u001b[0m\u001b[1;33m:\u001b[0m\u001b[1;33m\u001b[0m\u001b[1;33m\u001b[0m\u001b[0m\n\u001b[0m\u001b[0;32m      5\u001b[0m     \u001b[1;31m# 동영상 제목을 출력\u001b[0m\u001b[1;33m\u001b[0m\u001b[1;33m\u001b[0m\u001b[1;33m\u001b[0m\u001b[0m\n\u001b[0;32m      6\u001b[0m     \u001b[0mprint\u001b[0m\u001b[1;33m(\u001b[0m\u001b[0mitem\u001b[0m\u001b[1;33m[\u001b[0m\u001b[1;34m'snippet'\u001b[0m\u001b[1;33m]\u001b[0m\u001b[1;33m[\u001b[0m\u001b[1;34m'title'\u001b[0m\u001b[1;33m]\u001b[0m\u001b[1;33m)\u001b[0m\u001b[1;33m\u001b[0m\u001b[1;33m\u001b[0m\u001b[0m\n",
      "\u001b[1;31mNameError\u001b[0m: name 'search_response' is not defined"
     ]
    }
   ],
   "source": [
    "# search_response는 API 응답을 JSON으로 나타낸 dict 객체\n",
    "# json parser : http://json.parser.online.fr/\n",
    "\n",
    "\n",
    " # 동영상 제목을 출력\n",
    "for item in search_response['items']:\n",
    "    print(item['snippet']['title'])    "
   ]
  },
  {
   "cell_type": "code",
   "execution_count": null,
   "metadata": {},
   "outputs": [],
   "source": [
    "# google sample code 일부 수정부분\n",
    "for search_result in search_response.get(\"items\", []):\n",
    "    if search_result[\"id\"][\"kind\"] == \"youtube#video\":\n",
    "        videos.append(\"%s (%s)\" % (search_result[\"snippet\"][\"title\"],search_result[\"id\"][\"videoId\"]))\n",
    "    elif search_result[\"id\"][\"kind\"] == \"youtube#channel\":\n",
    "        channels.append(\"%s (%s)\" % (search_result[\"snippet\"][\"title\"],search_result[\"id\"][\"channelId\"]))\n",
    "    elif search_result[\"id\"][\"kind\"] == \"youtube#playlist\":\n",
    "        playlists.append(\"%s (%s)\" % (search_result[\"snippet\"][\"title\"],search_result[\"id\"][\"playlistId\"]))\n",
    "        \n",
    "        \n",
    "print(\"Videos:\\n\"+ videos)\n",
    "print(\"Channels:\\n\"+ channels)\n",
    "print(\"Playlists:\\n\"+ playlists)"
   ]
  },
  {
   "cell_type": "code",
   "execution_count": null,
   "metadata": {},
   "outputs": [],
   "source": [
    "# 썸네일 이미지를 저장\n",
    "img_dir = f\"{os.getcwd()}/youtube_img\"\n",
    "if not os.path.isdir(img_dir):\n",
    "   os.mkdir(img_dir)\n",
    "\n",
    "i = 0\n",
    "for item in search_response['items']:\n",
    "    # 동영상 썸네일을 출력합니다.\n",
    "    url = item['snippet']['thumbnails']['high']['url']\n",
    "#     print(url) \n",
    "    img_file_name = \"photo_\" + str(i) + \".jpg\"\n",
    "    img_data = requests.get(url).content\n",
    "    with open(f'youtube_img/i{img_file_name}', 'wb') as handler:\n",
    "        handler.write(img_data)\n",
    "    i = i + 1\n",
    "#     urls"
   ]
  },
  {
   "cell_type": "code",
   "execution_count": null,
   "metadata": {},
   "outputs": [],
   "source": [
    "# 엑셀에 search 데이터, 썸네일 이미지 저장\n",
    "# https://xlsxwriter.readthedocs.io/example_images.html\n",
    "videos = []\n",
    "channels = []\n",
    "playlists = []\n",
    "thumbnails = []\n",
    "titles = []\n",
    "i = 0\n",
    "\n",
    "# Create the workbook and add a worksheet.\n",
    "workbook  = xlsxwriter.Workbook('images_bytesio.xlsx')\n",
    "worksheet = workbook.add_worksheet()\n",
    "\n",
    "\n",
    "for search_result in search_response['items']:\n",
    "    url = search_result['snippet']['thumbnails']['default']['url']\n",
    "    title = search_result['snippet']['title']\n",
    "    \n",
    "    titles.append(title)\n",
    "    thumbnails.append(url)\n",
    "    \n",
    "    image_data = BytesIO(urlopen(url).read())\n",
    "    \n",
    "    worksheet.set_column('A:A', 40)\n",
    "    worksheet.set_column('B:B', 20)\n",
    "    \n",
    "    worksheet.set_row(20)\n",
    "    \n",
    "    worksheet.write('A'+ str(i), title)\n",
    "    worksheet.insert_image('B'+ str(i), url, {'image_data': image_data})\n",
    "    \n",
    "    i = i + 1\n",
    "\n",
    "\n",
    "workbook.close()"
   ]
  }
 ],
 "metadata": {
  "kernelspec": {
   "display_name": "Python 3",
   "language": "python",
   "name": "python3"
  },
  "language_info": {
   "codemirror_mode": {
    "name": "ipython",
    "version": 3
   },
   "file_extension": ".py",
   "mimetype": "text/x-python",
   "name": "python",
   "nbconvert_exporter": "python",
   "pygments_lexer": "ipython3",
   "version": "3.7.6"
  },
  "toc": {
   "base_numbering": 1,
   "nav_menu": {},
   "number_sections": false,
   "sideBar": true,
   "skip_h1_title": false,
   "title_cell": "Table of Contents",
   "title_sidebar": "Contents",
   "toc_cell": false,
   "toc_position": {},
   "toc_section_display": true,
   "toc_window_display": false
  }
 },
 "nbformat": 4,
 "nbformat_minor": 4
}
