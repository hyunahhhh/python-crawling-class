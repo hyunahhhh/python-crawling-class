{
 "cells": [
  {
   "cell_type": "markdown",
   "metadata": {},
   "source": [
    "# 웹 크롤링(2)\n",
    "크롤링 사이트: https://www.coupang.com\n",
    "\n",
    "## 크롤링 절차\n",
    "1. 사이트의 html을 읽어들이기: requests.get(url) 사용\n",
    "    * http://www.useragentstring.com/\n",
    "    \n",
    "    \n",
    "    \n",
    "2. 텍스트 형태의 데이터를 html 태그별로 구분하여 파싱하기 : BeutifulSoup\n",
    "\n",
    "3. 특정 태그값만 찾기 : findAll, find\n",
    "\n",
    "4. 필요한 데이터값 정제하기\n",
    "\n",
    "5. 데이터 저장하기\n"
   ]
  },
  {
   "cell_type": "code",
   "execution_count": null,
   "metadata": {},
   "outputs": [],
   "source": [
    "from bs4 import BeautifulSoup\n",
    "import csv\n",
    "import requests"
   ]
  },
  {
   "cell_type": "code",
   "execution_count": null,
   "metadata": {},
   "outputs": [],
   "source": [
    "headers = {'User-Agent': 'Mozilla/5.0 (Windows NT 10.0; Win64; x64) AppleWebKit/537.36 (KHTML, like Gecko) Chrome/83.0.4103.106 Safari/537.36'}"
   ]
  },
  {
   "cell_type": "code",
   "execution_count": null,
   "metadata": {},
   "outputs": [],
   "source": [
    "def wirte_csv(file_name, data) :\n",
    "    # encoding='utf-8' 시 한글 깨짐 현상 발견시, encoding='euc-kr'로 지정 \n",
    "    # 크롤하는 사이트가 euc-kr 인코딩된 한글 바이트를 사용하였기 때문,\n",
    "    # 파이썬 출력결과는 기본적으로 utf-8, euc-kr 인코딩이 되지만\n",
    "    # csv 파일 저장시 인코딩 방식을 직접 저장해줘야 함\n",
    "    with open(f'{file_name}.csv', 'a', encoding='euc-kr') as f:\n",
    "        writer = csv.writer(f, lineterminator='\\n')\n",
    "        writer.writerow(data)"
   ]
  },
  {
   "cell_type": "code",
   "execution_count": null,
   "metadata": {},
   "outputs": [],
   "source": [
    "## 쿠팡 기본 가격 크롤링\n",
    "def coupnag_product_price(product_name, result_file_name) :\n",
    "    # 크롤링할 웹 사이트 정보\n",
    "    url = f\"https://www.coupang.com/np/search?component=&q={product_name}&channel=user\"\n",
    "\n",
    "    # get html\n",
    "    response = requests.get(url, headers = headers)\n",
    "\n",
    "    # BeautifulSoup을 활용하여 데이터 파싱\n",
    "    soup = BeautifulSoup(response.text, \"html.parser\")\n",
    "    \n",
    "    #상품명\n",
    "    names = soup.findAll('div', {'class':'name'})\n",
    "    \n",
    "    #가격\n",
    "    prices = soup.findAll('strong', {'class':'price-value'})\n",
    "    name_list = []\n",
    "    price_list = []\n",
    "    for price in prices :\n",
    "        price_list.append(price.text)\n",
    "    for name in names :\n",
    "        name_list.append(name.text)\n",
    "    try :\n",
    "        wirte_csv(result_file_name, [\"상품명\", \"가격\"])\n",
    "        for k in range(len(name_list)) :\n",
    "#             print(\"*상품명 : \", name_list[k], \",    *가격 : \",price_list[k] , )\n",
    "            wirte_csv(result_file_name, [name_list[k], price_list[k]])\n",
    "    except :\n",
    "        pass"
   ]
  },
  {
   "cell_type": "code",
   "execution_count": null,
   "metadata": {},
   "outputs": [],
   "source": [
    "coupnag_product_price('종갓집 김치', '쿠팡_result_1')"
   ]
  },
  {
   "cell_type": "code",
   "execution_count": null,
   "metadata": {},
   "outputs": [],
   "source": [
    "## 쿠팡 케이스별로 크롤링 하는 경우\n",
    "def coupnag_product_price_case(product_name, result_file_name, page_no, min_price, max_price) :\n",
    "    # 크롤링할 웹 사이트 정보\n",
    "    url = f\"https://www.coupang.com/np/search?component=&q={product_name}&channel=user&page={page_no}&minPrice={min_price}&maxPrice={max_price}\"    # get html\n",
    "    response = requests.get(url, headers = headers)\n",
    "\n",
    "    # BeautifulSoup을 활용하여 데이터 파싱\n",
    "    soup = BeautifulSoup(response.text, \"html.parser\")\n",
    "    \n",
    "    names = soup.findAll('div', {'class':'name'})\n",
    "    prices = soup.findAll('strong', {'class':'price-value'})\n",
    "    name_list = []\n",
    "    price_list = []\n",
    "    for price in prices :\n",
    "        price_list.append(price.text)\n",
    "    for name in names :\n",
    "        name_list.append(name.text)\n",
    "    try :\n",
    "        wirte_csv(result_file_name, [\"상품명\", \"가격\"])\n",
    "        for k in range(len(name_list)) :\n",
    "            print(\"*상품명 : \", name_list[k], \",    *가격 : \",price_list[k])\n",
    "            wirte_csv(result_file_name, [name_list[k], price_list[k]])\n",
    "    except :\n",
    "        pass"
   ]
  },
  {
   "cell_type": "code",
   "execution_count": null,
   "metadata": {},
   "outputs": [],
   "source": [
    "coupnag_product_price_case(product_name = '종가집 김치', result_file_name ='쿠팡_result_2', page_no=1, min_price=20000, max_price=40000)"
   ]
  },
  {
   "cell_type": "code",
   "execution_count": null,
   "metadata": {},
   "outputs": [],
   "source": []
  },
  {
   "cell_type": "code",
   "execution_count": null,
   "metadata": {},
   "outputs": [],
   "source": []
  },
  {
   "cell_type": "code",
   "execution_count": null,
   "metadata": {},
   "outputs": [],
   "source": []
  }
 ],
 "metadata": {
  "kernelspec": {
   "display_name": "Python 3",
   "language": "python",
   "name": "python3"
  },
  "language_info": {
   "codemirror_mode": {
    "name": "ipython",
    "version": 3
   },
   "file_extension": ".py",
   "mimetype": "text/x-python",
   "name": "python",
   "nbconvert_exporter": "python",
   "pygments_lexer": "ipython3",
   "version": "3.7.6"
  },
  "toc": {
   "base_numbering": 1,
   "nav_menu": {},
   "number_sections": false,
   "sideBar": true,
   "skip_h1_title": false,
   "title_cell": "Table of Contents",
   "title_sidebar": "Contents",
   "toc_cell": false,
   "toc_position": {},
   "toc_section_display": true,
   "toc_window_display": false
  }
 },
 "nbformat": 4,
 "nbformat_minor": 4
}
